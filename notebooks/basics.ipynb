{
 "cells": [
  {
   "cell_type": "markdown",
   "metadata": {
    "pycharm": {
     "name": "#%%\n"
    }
   },
   "source": [
    "# Pizza Ontology Sample"
   ]
  },
  {
   "cell_type": "markdown",
   "metadata": {},
   "source": [
    "```xml\n",
    "<rdf:RDF xmlns=\"http://www.co-ode.org/ontologies/pizza/pizza.owl#\"\n",
    "     xml:base=\"http://www.co-ode.org/ontologies/pizza/pizza.owl\"\n",
    "     xmlns:pizza=\"http://www.co-ode.org/ontologies/pizza/pizza.owl#\"\n",
    "     xmlns:rdf=\"http://www.w3.org/1999/02/22-rdf-syntax-ns#\"\n",
    "     xmlns:terms=\"http://purl.org/dc/terms/\"\n",
    "     xmlns:owl=\"http://www.w3.org/2002/07/owl#\"\n",
    "     xmlns:xml=\"http://www.w3.org/XML/1998/namespace\"\n",
    "     xmlns:xsd=\"http://www.w3.org/2001/XMLSchema#\"\n",
    "     xmlns:skos=\"http://www.w3.org/2004/02/skos/core#\"\n",
    "     xmlns:rdfs=\"http://www.w3.org/2000/01/rdf-schema#\"\n",
    "     xmlns:dc=\"http://purl.org/dc/elements/1.1/\">\n",
    "    <owl:Ontology rdf:about=\"http://www.co-ode.org/ontologies/pizza\">\n",
    "        <owl:versionIRI rdf:resource=\"http://www.co-ode.org/ontologies/pizza/2.0.0\"/>\n",
    "        <dc:title xml:lang=\"en\">pizza</dc:title>\n",
    "        <terms:contributor>Nick Drummond</terms:contributor>\n",
    "        <terms:license rdf:datatype=\"http://www.w3.org/2001/XMLSchema#string\">Creative Commons Attribution 3.0 (CC BY 3.0)</terms:license>\n",
    "        <rdfs:label rdf:datatype=\"http://www.w3.org/2001/XMLSchema#string\">pizza</rdfs:label>\n",
    "        <terms:provenance xml:lang=\"en\">v2.0 Added new annotations to the ontology using standard/well-know annotation properties\n",
    "\n",
    "v1.5. Removed protege.owl import and references. Made ontology URI date-independent\n",
    "\n",
    "v1.4. Added Food class (used in domain/range of hasIngredient), Added several hasCountryOfOrigin restrictions on pizzas, Made hasTopping invers functional</terms:provenance>\n",
    "        <owl:versionInfo rdf:datatype=\"http://www.w3.org/2001/XMLSchema#string\">2.0</owl:versionInfo>\n",
    "        <terms:contributor>Alan Rector</terms:contributor>\n",
    "        <dc:description xml:lang=\"en\">An ontology about pizzas and their toppings.\n",
    "\n",
    "This is an example ontology that contains all constructs required for the various versions of the Pizza Tutorial run by Manchester University (see http://owl.cs.manchester.ac.uk/publications/talks-and-tutorials/protg-owl-tutorial).</dc:description>\n",
    "        <terms:contributor>Matthew Horridge</terms:contributor>\n",
    "        <terms:contributor>Chris Wroe</terms:contributor>\n",
    "        <terms:contributor>Robert Stevens</terms:contributor>\n",
    "    </owl:Ontology>\n",
    "```"
   ]
  },
  {
   "cell_type": "code",
   "execution_count": 1,
   "metadata": {
    "pycharm": {
     "is_executing": true,
     "name": "#%%\n"
    }
   },
   "outputs": [
    {
     "name": "stdout",
     "output_type": "stream",
     "text": [
      "Prefix( xml: = <http://www.w3.org/XML/1998/namespace> )\n",
      "Prefix( rdf: = <http://www.w3.org/1999/02/22-rdf-syntax-ns#> )\n",
      "Prefix( rdfs: = <http://www.w3.org/2000/01/rdf-schema#> )\n",
      "Prefix( xsd: = <http://www.w3.org/2001/XMLSchema#> )\n",
      "Prefix( owl: = <http://www.w3.org/2002/07/owl#> )\n",
      "Prefix( dc: = <http://purl.org/dc/elements/1.1/> )\n",
      "Prefix( terms: = <http://purl.org/dc/terms/> )\n",
      "\n",
      "Ontology( <http://www.co-ode.org/ontologies/pizza> <http://www.co-ode.org/ontologies/pizza/2.0.0>\n",
      "    Annotation( dc:title \"pizza\" )\n",
      "    Annotation( terms:contributor \"Alan Rector\" )\n",
      "    Annotation( terms:contributor \"Matthew Horridge\" )\n",
      "    Annotation( terms:contributor \"Chris Wroe\" )\n",
      "    Annotation( terms:contributor \"Robert Stevens\" )\n",
      "    Annotation( dc:description \"An ontology about pizzas and their toppings.\n",
      "\n",
      "This is an example ontology that contains all constructs required for the various versions of the Pizza Tutorial\n",
      " run by Manchester University \n",
      " (see http://owl.cs.manchester.ac.uk/publications/talks-and-tutorials/protg-owl-tutorial).\" )\n",
      ")\n"
     ]
    }
   ],
   "source": [
    "from rdflib import Namespace, Literal\n",
    "from funowl.annotations import AnnotationValue\n",
    "from funowl.general_definitions import FullIRI\n",
    "from funowl.identifiers import IRI\n",
    "\n",
    "from funowl.ontology_document import Ontology\n",
    "\n",
    "DC = Namespace(\"http://purl.org/dc/elements/1.1/\")\n",
    "TERMS = Namespace(\"http://purl.org/dc/terms/\")\n",
    "\n",
    "pizza = Ontology(iri=IRI(FullIRI(\"http://www.co-ode.org/ontologies/pizza\")), \n",
    "                 version=IRI(FullIRI(\"http://www.co-ode.org/ontologies/pizza/2.0.0\")))\n",
    "pizza.prefixes(**dict(dc=DC, terms=TERMS))\n",
    "pizza.annotation(DC.title, \"pizza\")\n",
    "pizza.annotation(TERMS.contributor, \"Alan Rector\")\n",
    "pizza.annotation(TERMS.contributor, \"Matthew Horridge\")\n",
    "pizza.annotation(TERMS.contributor, \"Chris Wroe\")\n",
    "pizza.annotation(TERMS.contributor, \"Robert Stevens\")\n",
    "pizza.annotation(DC.description, \n",
    "                 AnnotationValue(Literal(\"\"\"An ontology about pizzas and their toppings.\n",
    "\n",
    "This is an example ontology that contains all constructs required for the various versions of the Pizza Tutorial\n",
    " run by Manchester University \n",
    " (see http://owl.cs.manchester.ac.uk/publications/talks-and-tutorials/protg-owl-tutorial).\"\"\", lang=\"en\")))\n",
    "\n",
    "print(pizza.to_functional().getvalue())"
   ]
  },
  {
   "cell_type": "markdown",
   "metadata": {},
   "source": [
    "\n"
   ]
  },
  {
   "cell_type": "markdown",
   "metadata": {},
   "source": [
    "\n"
   ]
  },
  {
   "cell_type": "markdown",
   "metadata": {},
   "source": [
    "\n"
   ]
  },
  {
   "cell_type": "markdown",
   "metadata": {},
   "source": [
    "\n"
   ]
  },
  {
   "cell_type": "markdown",
   "metadata": {},
   "source": [
    "\n"
   ]
  },
  {
   "cell_type": "markdown",
   "metadata": {},
   "source": [
    "\n"
   ]
  },
  {
   "cell_type": "code",
   "execution_count": null,
   "metadata": {
    "pycharm": {
     "name": "#%%\n"
    }
   },
   "outputs": [],
   "source": [
    "\n"
   ]
  },
  {
   "cell_type": "code",
   "execution_count": null,
   "metadata": {
    "pycharm": {
     "name": "#%%\n"
    }
   },
   "outputs": [],
   "source": [
    "\n"
   ]
  },
  {
   "cell_type": "code",
   "execution_count": null,
   "metadata": {
    "pycharm": {
     "name": "#%%\n"
    }
   },
   "outputs": [],
   "source": [
    "\n"
   ]
  },
  {
   "cell_type": "code",
   "execution_count": null,
   "metadata": {
    "pycharm": {
     "name": "#%%\n"
    }
   },
   "outputs": [],
   "source": [
    "\n"
   ]
  },
  {
   "cell_type": "code",
   "execution_count": null,
   "metadata": {
    "pycharm": {
     "name": "#%%\n"
    }
   },
   "outputs": [],
   "source": [
    "\n"
   ]
  },
  {
   "cell_type": "markdown",
   "metadata": {},
   "source": [
    "\n"
   ]
  },
  {
   "cell_type": "markdown",
   "metadata": {},
   "source": [
    "\n"
   ]
  },
  {
   "cell_type": "markdown",
   "metadata": {},
   "source": [
    "\n"
   ]
  },
  {
   "cell_type": "markdown",
   "metadata": {},
   "source": [
    "\n"
   ]
  },
  {
   "cell_type": "markdown",
   "metadata": {},
   "source": [
    "\n"
   ]
  }
 ],
 "metadata": {
  "kernelspec": {
   "display_name": "Python 3",
   "language": "python",
   "name": "python3"
  },
  "language_info": {
   "codemirror_mode": {
    "name": "ipython",
    "version": 3
   },
   "file_extension": ".py",
   "mimetype": "text/x-python",
   "name": "python",
   "nbconvert_exporter": "python",
   "pygments_lexer": "ipython3",
   "version": "3.8.0"
  },
  "pycharm": {
   "stem_cell": {
    "cell_type": "raw",
    "metadata": {
     "collapsed": false
    },
    "source": []
   }
  }
 },
 "nbformat": 4,
 "nbformat_minor": 1
}
